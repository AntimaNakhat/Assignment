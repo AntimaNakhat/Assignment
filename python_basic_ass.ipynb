{
 "cells": [
  {
   "cell_type": "markdown",
   "id": "cf637e74-8717-4d83-8338-e4dafff20695",
   "metadata": {},
   "source": [
    "# Python Baiscs Assignment"
   ]
  },
  {
   "cell_type": "markdown",
   "id": "d1dcbdc6-ee16-4efe-8766-0ba7e5f7e403",
   "metadata": {},
   "source": [
    "## 1. Explain the key features of Python that make it a popular choice for programming\n",
    "\n"
   ]
  },
  {
   "cell_type": "markdown",
   "id": "7b6bbebd-ce7e-49b7-a8e4-63f7f9df18c9",
   "metadata": {},
   "source": [
    "- Interpreted Language: Python is executed line-by-line, which simplifies   debugging and accelerates development.\n",
    "- Extensive Standard Library\n",
    "- Variables are not explicitly declared\n",
    "- Python programs can run on various operating systems without modification.\n",
    "- Easily integrates with other languages and technologies \n",
    "- Strong Support for Data Science and AI"
   ]
  },
  {
   "cell_type": "markdown",
   "id": "1d8a3872-3c23-4885-874c-2bb010717aaa",
   "metadata": {},
   "source": [
    "## 2. Describe the role of predefined keywords in Python and provide examples of how they are used in a program"
   ]
  },
  {
   "cell_type": "markdown",
   "id": "3a095cb3-2ef1-4791-967d-13b4b108c244",
   "metadata": {},
   "source": [
    "Predefined keywords in Python are reserved words that have special meanings and functionalities.These keywords cannot be used as identifiers and are essential for writing effective and error-free code.\n",
    "\n",
    "Roles of Predefined Keywords:\n",
    "- Control Flow: like if, else, elif, for, while, break, continue, to manage the flow of the program.\n",
    "- Data Types: such as True, False, None represent boolean values and null value.\n",
    "- logical operation like and,or,not\n",
    "\n",
    "example is given below:"
   ]
  },
  {
   "cell_type": "code",
   "execution_count": 1,
   "id": "a88170ed-d6d4-4751-a73f-48ce8b7539cc",
   "metadata": {},
   "outputs": [
    {
     "name": "stdout",
     "output_type": "stream",
     "text": [
      "0\n",
      "1\n",
      "2\n",
      "3\n",
      "4\n"
     ]
    }
   ],
   "source": [
    "l = range(5)\n",
    "for i in l:\n",
    "    print(i)"
   ]
  },
  {
   "cell_type": "markdown",
   "id": "03bf28f0-357a-4d8f-bc49-f5d885ee3938",
   "metadata": {},
   "source": [
    "## 3. Compare and contrast mutable and immutable objects in Python with examples\n"
   ]
  },
  {
   "cell_type": "markdown",
   "id": "728d9bab-914c-403e-8bb0-dffb671e4f77",
   "metadata": {},
   "source": [
    "Mutable Objects: can be changed after their creation.Means we can alter their content without creating a new object. However these objects are inherently not safe as immutable objects.\n",
    "\n",
    "Examples: Lists, dictionaries, sets, and user-defined objects\n",
    "\n",
    "Immutable Objects: cannot be changed once they are created. Any modification to an immutable object results in the creation of a new object.Immutable objects are inherently thread-safe & reducing the risk of side effects in concurrent programs.\n",
    "\n",
    "Examples: Strings, tuples"
   ]
  },
  {
   "cell_type": "code",
   "execution_count": null,
   "id": "cb5c64a5-a3ad-4db9-a84c-81353b4beb5c",
   "metadata": {},
   "outputs": [],
   "source": []
  },
  {
   "cell_type": "markdown",
   "id": "26da7ca4-32cf-414a-a532-7afe011550aa",
   "metadata": {},
   "source": [
    "example of mutable object"
   ]
  },
  {
   "cell_type": "code",
   "execution_count": 3,
   "id": "6f15ba0d-cfe9-48b5-821e-9186c8b118b7",
   "metadata": {},
   "outputs": [
    {
     "data": {
      "text/plain": [
       "[7, 5, 9, 8, 85]"
      ]
     },
     "execution_count": 3,
     "metadata": {},
     "output_type": "execute_result"
    }
   ],
   "source": [
    "l = [1,5,9,8,85]\n",
    "l[0] = 7\n",
    "l"
   ]
  },
  {
   "cell_type": "code",
   "execution_count": 4,
   "id": "2fc881e7-a7e8-48dd-8788-e9587241bfb1",
   "metadata": {},
   "outputs": [
    {
     "data": {
      "text/plain": [
       "{'a': 'antima', 'n': 'nakhat', 'r': 'riya'}"
      ]
     },
     "execution_count": 4,
     "metadata": {},
     "output_type": "execute_result"
    }
   ],
   "source": [
    "dict1 = {\"a\":\"antima\", \"n\": \"nakhat\", \"r\":\"ram\"}\n",
    "dict1[\"r\"] = \"riya\"\n",
    "dict1"
   ]
  },
  {
   "cell_type": "code",
   "execution_count": 5,
   "id": "c6610078-2dee-4051-89c0-9de730972bda",
   "metadata": {},
   "outputs": [
    {
     "data": {
      "text/plain": [
       "{1, 2, 3, 5, 14, 2001}"
      ]
     },
     "execution_count": 5,
     "metadata": {},
     "output_type": "execute_result"
    }
   ],
   "source": [
    "s = {1,2,3,3,2,14,5}\n",
    "s.add(2001)\n",
    "s"
   ]
  },
  {
   "cell_type": "markdown",
   "id": "5dcf4805-233d-44f3-90b4-18b630a06ba0",
   "metadata": {},
   "source": [
    "Immutable objects : whose state or contents cannot be modified after they are created."
   ]
  },
  {
   "cell_type": "code",
   "execution_count": 52,
   "id": "e3db2a62-48dc-4502-86d6-5ca1137f4c4d",
   "metadata": {},
   "outputs": [
    {
     "ename": "TypeError",
     "evalue": "'str' object does not support item assignment",
     "output_type": "error",
     "traceback": [
      "\u001b[0;31m---------------------------------------------------------------------------\u001b[0m",
      "\u001b[0;31mTypeError\u001b[0m                                 Traceback (most recent call last)",
      "Cell \u001b[0;32mIn[52], line 2\u001b[0m\n\u001b[1;32m      1\u001b[0m l \u001b[38;5;241m=\u001b[39m [\u001b[38;5;124m\"\u001b[39m\u001b[38;5;124mantima\u001b[39m\u001b[38;5;124m\"\u001b[39m] \n\u001b[0;32m----> 2\u001b[0m \u001b[38;5;124;43m\"\u001b[39;49m\u001b[38;5;124;43mantima\u001b[39;49m\u001b[38;5;124;43m\"\u001b[39;49m\u001b[43m[\u001b[49m\u001b[38;5;241;43m2\u001b[39;49m\u001b[43m]\u001b[49m \u001b[38;5;241m=\u001b[39m \u001b[38;5;124m'\u001b[39m\u001b[38;5;124mk\u001b[39m\u001b[38;5;124m'\u001b[39m  \u001b[38;5;66;03m# this show error because string object doesn't support item assignment\u001b[39;00m\n\u001b[1;32m      3\u001b[0m l\n",
      "\u001b[0;31mTypeError\u001b[0m: 'str' object does not support item assignment"
     ]
    }
   ],
   "source": [
    "l = [\"antima\"] \n",
    "\"antima\"[2] = 'k'  # this show error because string object doesn't support item assignment\n",
    "l"
   ]
  },
  {
   "cell_type": "markdown",
   "id": "834c6428-5e65-4be1-a7dc-f33d660475fc",
   "metadata": {},
   "source": [
    "Immutable objects are those whose state or contents cannot be modified after they are created.For this we have to Creating a new string instead of modifying the original"
   ]
  },
  {
   "cell_type": "code",
   "execution_count": 6,
   "id": "caff03d5-d4ec-48bb-8b6e-80fdd444b265",
   "metadata": {},
   "outputs": [
    {
     "name": "stdout",
     "output_type": "stream",
     "text": [
      "antima\n",
      "antima nakhat\n"
     ]
    }
   ],
   "source": [
    "string = \"antima\"\n",
    "new_string = string + \" nakhat\"  \n",
    "print(string)  \n",
    "print(new_string)  \n"
   ]
  },
  {
   "cell_type": "code",
   "execution_count": 7,
   "id": "462a4a57-e6c0-422c-aaa3-084c43981536",
   "metadata": {},
   "outputs": [
    {
     "name": "stdout",
     "output_type": "stream",
     "text": [
      "(1, 2, 3)\n",
      "(1, 2, 3, 4)\n"
     ]
    }
   ],
   "source": [
    "tuple1 = (1, 2, 3)\n",
    "new_tuple = tuple1 + (4,)\n",
    "print(tuple1)  \n",
    "print(new_tuple)  \n"
   ]
  },
  {
   "cell_type": "markdown",
   "id": "c0fc2c02-ec1f-4785-9b26-a20496e8422e",
   "metadata": {},
   "source": [
    "## 4. Discuss the different types of operators in Python and provide examples of how they are used\n"
   ]
  },
  {
   "cell_type": "markdown",
   "id": "20d85734-66c3-4d3f-b73d-5f4a510a25f0",
   "metadata": {},
   "source": [
    "- Arithmetic operators:  +, -, *, /, //(Floor division), %, **(exponentiation)\n",
    "- comparion operators : ==, !=, >, <, >=, <=\n",
    "- Assignment Operators : =, +=, -=, *=, /=, //=, %=, **=\n",
    "- Logical operators: and, or, not\n",
    "- Bitwise operators: &, |, ^(Bitwise XOR), ~(Bitwise NOT), <<, >>\n",
    "- Membership operators: in, not in\n",
    "- Identity operators: is, is not"
   ]
  },
  {
   "cell_type": "markdown",
   "id": "a754eea8-e73a-4ece-adcf-e95b5b6dd91a",
   "metadata": {},
   "source": [
    "#Arithmetic operator"
   ]
  },
  {
   "cell_type": "code",
   "execution_count": 3,
   "id": "a031d1b7-f09d-407b-8a3e-5de560f93a37",
   "metadata": {},
   "outputs": [
    {
     "data": {
      "text/plain": [
       "7"
      ]
     },
     "execution_count": 3,
     "metadata": {},
     "output_type": "execute_result"
    }
   ],
   "source": [
    "a = 5+2\n",
    "a"
   ]
  },
  {
   "cell_type": "code",
   "execution_count": 8,
   "id": "5914d362-7083-4244-9615-daf11c8c72e3",
   "metadata": {},
   "outputs": [
    {
     "data": {
      "text/plain": [
       "3"
      ]
     },
     "execution_count": 8,
     "metadata": {},
     "output_type": "execute_result"
    }
   ],
   "source": [
    "b = 5-2\n",
    "b"
   ]
  },
  {
   "cell_type": "code",
   "execution_count": 9,
   "id": "d3b8fff7-aab1-4ae1-ace1-2ef3bf9f9a73",
   "metadata": {},
   "outputs": [
    {
     "data": {
      "text/plain": [
       "10"
      ]
     },
     "execution_count": 9,
     "metadata": {},
     "output_type": "execute_result"
    }
   ],
   "source": [
    "c = 5*2\n",
    "c"
   ]
  },
  {
   "cell_type": "code",
   "execution_count": 10,
   "id": "b7b506c8-53df-41be-8b75-1263ffeaaa3e",
   "metadata": {},
   "outputs": [
    {
     "data": {
      "text/plain": [
       "2.5"
      ]
     },
     "execution_count": 10,
     "metadata": {},
     "output_type": "execute_result"
    }
   ],
   "source": [
    "d = 5/2\n",
    "d"
   ]
  },
  {
   "cell_type": "code",
   "execution_count": 11,
   "id": "c4ca91aa-8261-49c8-989c-d74c1db17232",
   "metadata": {},
   "outputs": [
    {
     "data": {
      "text/plain": [
       "2"
      ]
     },
     "execution_count": 11,
     "metadata": {},
     "output_type": "execute_result"
    }
   ],
   "source": [
    "e = 5//2\n",
    "e"
   ]
  },
  {
   "cell_type": "code",
   "execution_count": 12,
   "id": "81b67eca-1352-46f6-9cec-e24e2b7beb74",
   "metadata": {},
   "outputs": [
    {
     "data": {
      "text/plain": [
       "1"
      ]
     },
     "execution_count": 12,
     "metadata": {},
     "output_type": "execute_result"
    }
   ],
   "source": [
    "f = 5%2\n",
    "f"
   ]
  },
  {
   "cell_type": "code",
   "execution_count": 13,
   "id": "a0e47335-9be9-4ef5-9dd7-7eac04c20828",
   "metadata": {},
   "outputs": [
    {
     "data": {
      "text/plain": [
       "25"
      ]
     },
     "execution_count": 13,
     "metadata": {},
     "output_type": "execute_result"
    }
   ],
   "source": [
    "g = 5**2\n",
    "g"
   ]
  },
  {
   "cell_type": "markdown",
   "id": "40bba12c-077b-4fb8-b1d7-5484085c846b",
   "metadata": {},
   "source": [
    "#comparison operator"
   ]
  },
  {
   "cell_type": "code",
   "execution_count": 14,
   "id": "67017b79-5e80-4804-a272-0c3845a05a48",
   "metadata": {},
   "outputs": [
    {
     "data": {
      "text/plain": [
       "False"
      ]
     },
     "execution_count": 14,
     "metadata": {},
     "output_type": "execute_result"
    }
   ],
   "source": [
    "a = 5\n",
    "b = 3\n",
    "a == b"
   ]
  },
  {
   "cell_type": "code",
   "execution_count": 15,
   "id": "7d661ac1-ede7-4f37-94ef-fc2fd2dd1c46",
   "metadata": {},
   "outputs": [
    {
     "data": {
      "text/plain": [
       "True"
      ]
     },
     "execution_count": 15,
     "metadata": {},
     "output_type": "execute_result"
    }
   ],
   "source": [
    "a = 5\n",
    "b = 3\n",
    "a != b"
   ]
  },
  {
   "cell_type": "code",
   "execution_count": 16,
   "id": "fc6518d8-fc59-44c7-abc9-6fd557f11755",
   "metadata": {},
   "outputs": [
    {
     "data": {
      "text/plain": [
       "True"
      ]
     },
     "execution_count": 16,
     "metadata": {},
     "output_type": "execute_result"
    }
   ],
   "source": [
    "a = 5\n",
    "b = 3\n",
    "a > b"
   ]
  },
  {
   "cell_type": "code",
   "execution_count": 17,
   "id": "1d8074c8-e9a1-4b90-8149-1a55a12e41f0",
   "metadata": {},
   "outputs": [
    {
     "data": {
      "text/plain": [
       "False"
      ]
     },
     "execution_count": 17,
     "metadata": {},
     "output_type": "execute_result"
    }
   ],
   "source": [
    "a = 5\n",
    "b = 3\n",
    "a < b"
   ]
  },
  {
   "cell_type": "code",
   "execution_count": 18,
   "id": "1773a5bb-8592-4e50-87b9-74eb2f4c2515",
   "metadata": {},
   "outputs": [
    {
     "data": {
      "text/plain": [
       "False"
      ]
     },
     "execution_count": 18,
     "metadata": {},
     "output_type": "execute_result"
    }
   ],
   "source": [
    "a = 5\n",
    "b = 3\n",
    "a <= b"
   ]
  },
  {
   "cell_type": "code",
   "execution_count": 19,
   "id": "e267d178-afe9-4af0-b1d1-e0c99cf07462",
   "metadata": {},
   "outputs": [
    {
     "data": {
      "text/plain": [
       "True"
      ]
     },
     "execution_count": 19,
     "metadata": {},
     "output_type": "execute_result"
    }
   ],
   "source": [
    "a = 5\n",
    "b = 3\n",
    "a >= b"
   ]
  },
  {
   "cell_type": "markdown",
   "id": "64bf3b00-b846-42bb-b100-cdcf0f0cdcdb",
   "metadata": {},
   "source": [
    "#Assignment operator"
   ]
  },
  {
   "cell_type": "code",
   "execution_count": 20,
   "id": "f39a1b09-41ed-47a4-85d9-7b7c5e29550a",
   "metadata": {},
   "outputs": [
    {
     "data": {
      "text/plain": [
       "5"
      ]
     },
     "execution_count": 20,
     "metadata": {},
     "output_type": "execute_result"
    }
   ],
   "source": [
    "b = 5\n",
    "b"
   ]
  },
  {
   "cell_type": "code",
   "execution_count": 21,
   "id": "cb00b07a-972e-4b17-996d-9da5cdd6a730",
   "metadata": {},
   "outputs": [
    {
     "data": {
      "text/plain": [
       "7"
      ]
     },
     "execution_count": 21,
     "metadata": {},
     "output_type": "execute_result"
    }
   ],
   "source": [
    "b = 5\n",
    "b += 2\n",
    "b"
   ]
  },
  {
   "cell_type": "code",
   "execution_count": 22,
   "id": "61a5731d-f285-4e93-bce6-cfa2eb64be5d",
   "metadata": {},
   "outputs": [
    {
     "data": {
      "text/plain": [
       "3"
      ]
     },
     "execution_count": 22,
     "metadata": {},
     "output_type": "execute_result"
    }
   ],
   "source": [
    "b = 5\n",
    "b -= 2\n",
    "b"
   ]
  },
  {
   "cell_type": "code",
   "execution_count": 23,
   "id": "faa9ebcf-27ea-419d-a7bb-058312e814d2",
   "metadata": {},
   "outputs": [
    {
     "data": {
      "text/plain": [
       "10"
      ]
     },
     "execution_count": 23,
     "metadata": {},
     "output_type": "execute_result"
    }
   ],
   "source": [
    "b = 5\n",
    "b *= 2\n",
    "b"
   ]
  },
  {
   "cell_type": "code",
   "execution_count": 24,
   "id": "d3647f0b-bbc9-44ef-bb39-537d4e9a1596",
   "metadata": {},
   "outputs": [
    {
     "data": {
      "text/plain": [
       "2.5"
      ]
     },
     "execution_count": 24,
     "metadata": {},
     "output_type": "execute_result"
    }
   ],
   "source": [
    "b = 5\n",
    "b /= 2\n",
    "b"
   ]
  },
  {
   "cell_type": "code",
   "execution_count": 25,
   "id": "5bebd3c9-0a10-4181-ac51-543c43401efe",
   "metadata": {},
   "outputs": [
    {
     "data": {
      "text/plain": [
       "2"
      ]
     },
     "execution_count": 25,
     "metadata": {},
     "output_type": "execute_result"
    }
   ],
   "source": [
    "b = 5\n",
    "b //= 2\n",
    "b"
   ]
  },
  {
   "cell_type": "code",
   "execution_count": 26,
   "id": "394e82ed-33b3-4ebd-ac5e-90f14ebc8fad",
   "metadata": {},
   "outputs": [
    {
     "data": {
      "text/plain": [
       "1"
      ]
     },
     "execution_count": 26,
     "metadata": {},
     "output_type": "execute_result"
    }
   ],
   "source": [
    "b = 5\n",
    "b %= 2\n",
    "b"
   ]
  },
  {
   "cell_type": "code",
   "execution_count": 27,
   "id": "c12a6cb9-5923-4a90-8ae3-8ed1a87be437",
   "metadata": {},
   "outputs": [
    {
     "data": {
      "text/plain": [
       "25"
      ]
     },
     "execution_count": 27,
     "metadata": {},
     "output_type": "execute_result"
    }
   ],
   "source": [
    "b = 5\n",
    "b **= 2\n",
    "b"
   ]
  },
  {
   "cell_type": "markdown",
   "id": "f2d261a9-0c88-4d00-ac1a-bc0ede5edd36",
   "metadata": {},
   "source": [
    "#Logical operator"
   ]
  },
  {
   "cell_type": "code",
   "execution_count": 28,
   "id": "77b5d593-a286-4261-a552-418874f640e0",
   "metadata": {},
   "outputs": [
    {
     "data": {
      "text/plain": [
       "True"
      ]
     },
     "execution_count": 28,
     "metadata": {},
     "output_type": "execute_result"
    }
   ],
   "source": [
    "l = (5 > 3 and 2 < 4)\n",
    "l"
   ]
  },
  {
   "cell_type": "code",
   "execution_count": 29,
   "id": "8d75863e-e8dd-4fe7-8dbc-6388bc4cbf67",
   "metadata": {},
   "outputs": [
    {
     "data": {
      "text/plain": [
       "True"
      ]
     },
     "execution_count": 29,
     "metadata": {},
     "output_type": "execute_result"
    }
   ],
   "source": [
    "l = (5 > 3 or 2 < 4)\n",
    "l"
   ]
  },
  {
   "cell_type": "markdown",
   "id": "e7faa263-7b73-47ef-9c3e-af04fe15c868",
   "metadata": {},
   "source": [
    "#Bitwise Operator"
   ]
  },
  {
   "cell_type": "code",
   "execution_count": 30,
   "id": "2a85d47a-c7a0-4892-b6e5-9f7eff7edbdd",
   "metadata": {},
   "outputs": [
    {
     "data": {
      "text/plain": [
       "False"
      ]
     },
     "execution_count": 30,
     "metadata": {},
     "output_type": "execute_result"
    }
   ],
   "source": [
    "l = not(5 > 3)\n",
    "l"
   ]
  },
  {
   "cell_type": "code",
   "execution_count": 31,
   "id": "7b0510e1-0f07-4d2b-b593-9f384b9345fe",
   "metadata": {},
   "outputs": [
    {
     "data": {
      "text/plain": [
       "1"
      ]
     },
     "execution_count": 31,
     "metadata": {},
     "output_type": "execute_result"
    }
   ],
   "source": [
    "b = 5 & 3\n",
    "b"
   ]
  },
  {
   "cell_type": "code",
   "execution_count": 32,
   "id": "366e9c7e-a718-4f08-8ce8-0ee76c8a24b9",
   "metadata": {},
   "outputs": [
    {
     "data": {
      "text/plain": [
       "7"
      ]
     },
     "execution_count": 32,
     "metadata": {},
     "output_type": "execute_result"
    }
   ],
   "source": [
    "b = 5 | 3\n",
    "b"
   ]
  },
  {
   "cell_type": "code",
   "execution_count": 33,
   "id": "124d5d9f-1ee4-4770-9911-1345acf2151a",
   "metadata": {},
   "outputs": [
    {
     "data": {
      "text/plain": [
       "6"
      ]
     },
     "execution_count": 33,
     "metadata": {},
     "output_type": "execute_result"
    }
   ],
   "source": [
    "b = 5 ^ 3\n",
    "b"
   ]
  },
  {
   "cell_type": "code",
   "execution_count": 34,
   "id": "28f17791-0991-4952-9773-ed833c19f9ad",
   "metadata": {},
   "outputs": [
    {
     "data": {
      "text/plain": [
       "-6"
      ]
     },
     "execution_count": 34,
     "metadata": {},
     "output_type": "execute_result"
    }
   ],
   "source": [
    "b = ~5\n",
    "b"
   ]
  },
  {
   "cell_type": "code",
   "execution_count": 35,
   "id": "f1122d6b-f140-4479-b9c9-02c7b475259e",
   "metadata": {},
   "outputs": [
    {
     "data": {
      "text/plain": [
       "2"
      ]
     },
     "execution_count": 35,
     "metadata": {},
     "output_type": "execute_result"
    }
   ],
   "source": [
    "b = 5>>1\n",
    "b"
   ]
  },
  {
   "cell_type": "code",
   "execution_count": null,
   "id": "bff1e911-a2e2-4fae-be96-4f5263bcdc9e",
   "metadata": {},
   "outputs": [],
   "source": [
    "b = 5<<1\n",
    "b"
   ]
  },
  {
   "cell_type": "code",
   "execution_count": 36,
   "id": "554ab08e-3be0-4ffc-9ec3-6c708229b1e2",
   "metadata": {},
   "outputs": [
    {
     "data": {
      "text/plain": [
       "True"
      ]
     },
     "execution_count": 36,
     "metadata": {},
     "output_type": "execute_result"
    }
   ],
   "source": [
    "l = [1,2,3]\n",
    "3 in l"
   ]
  },
  {
   "cell_type": "code",
   "execution_count": 37,
   "id": "214dc2dc-aa0a-4b30-b21a-a544e2220624",
   "metadata": {},
   "outputs": [
    {
     "data": {
      "text/plain": [
       "False"
      ]
     },
     "execution_count": 37,
     "metadata": {},
     "output_type": "execute_result"
    }
   ],
   "source": [
    "b = 3 not in [1,2,3] \n",
    "b"
   ]
  },
  {
   "cell_type": "code",
   "execution_count": 38,
   "id": "524395fc-1030-43fb-8b5f-80e219d201ad",
   "metadata": {},
   "outputs": [
    {
     "data": {
      "text/plain": [
       "True"
      ]
     },
     "execution_count": 38,
     "metadata": {},
     "output_type": "execute_result"
    }
   ],
   "source": [
    "x = [1, 2, 3]\n",
    "y = x\n",
    "r = (x is y)  \n",
    "r"
   ]
  },
  {
   "cell_type": "code",
   "execution_count": 39,
   "id": "7cc0fe65-24ce-4287-87c2-fcc4d48857c3",
   "metadata": {},
   "outputs": [
    {
     "data": {
      "text/plain": [
       "True"
      ]
     },
     "execution_count": 39,
     "metadata": {},
     "output_type": "execute_result"
    }
   ],
   "source": [
    "x = [1, 2, 3]\n",
    "y = [1, 2, 3]\n",
    "r = (x is not y)  \n",
    "r"
   ]
  },
  {
   "cell_type": "markdown",
   "id": "98e3935e-16ce-4656-9a60-ca587de4b57c",
   "metadata": {},
   "source": [
    "## 5. Explain the concept of type casting in Python with examples\n"
   ]
  },
  {
   "cell_type": "markdown",
   "id": "7a45cf00-c8da-4666-8f46-fcdc5046dab2",
   "metadata": {},
   "source": [
    "Type casting in Python is the process of converting a variable from one data type to another. This is useful when we need to perform operations that require variables to be of the same data type. \n",
    "\n",
    "Type Casting Functions:\n",
    "- int()\n",
    "- float()\n",
    "- str()\n",
    "- list()\n",
    "- tuple()\n",
    "- set()\n",
    "- dict()\n",
    "- bool()"
   ]
  },
  {
   "cell_type": "markdown",
   "id": "2dc67f85-24de-4dec-a0bb-9aeff378581f",
   "metadata": {},
   "source": []
  },
  {
   "cell_type": "markdown",
   "id": "776808f3-9b6f-44ea-bf89-0808bd17609c",
   "metadata": {},
   "source": [
    "string to int conversion"
   ]
  },
  {
   "cell_type": "code",
   "execution_count": 40,
   "id": "37af96b2-b84b-4a7e-83d7-399cc733b662",
   "metadata": {},
   "outputs": [
    {
     "data": {
      "text/plain": [
       "str"
      ]
     },
     "execution_count": 40,
     "metadata": {},
     "output_type": "execute_result"
    }
   ],
   "source": [
    "a = '5'\n",
    "type(a)"
   ]
  },
  {
   "cell_type": "code",
   "execution_count": 18,
   "id": "d3d2bb3d-fcb2-47a8-93c8-a3547c6b0367",
   "metadata": {},
   "outputs": [
    {
     "data": {
      "text/plain": [
       "int"
      ]
     },
     "execution_count": 18,
     "metadata": {},
     "output_type": "execute_result"
    }
   ],
   "source": [
    "a = int('5')\n",
    "type(a)\n"
   ]
  },
  {
   "cell_type": "markdown",
   "id": "bdc973a7-ffce-47a5-936a-0dcbe636a83e",
   "metadata": {},
   "source": [
    "int to float conversion"
   ]
  },
  {
   "cell_type": "code",
   "execution_count": 41,
   "id": "a3da4d93-ef9e-437b-bb40-92092c0789da",
   "metadata": {},
   "outputs": [
    {
     "data": {
      "text/plain": [
       "int"
      ]
     },
     "execution_count": 41,
     "metadata": {},
     "output_type": "execute_result"
    }
   ],
   "source": [
    "a = 5\n",
    "type(a)"
   ]
  },
  {
   "cell_type": "code",
   "execution_count": 42,
   "id": "279baa5a-5b09-4a56-86e4-85e0996c0fbb",
   "metadata": {},
   "outputs": [
    {
     "data": {
      "text/plain": [
       "float"
      ]
     },
     "execution_count": 42,
     "metadata": {},
     "output_type": "execute_result"
    }
   ],
   "source": [
    "a = float(5)\n",
    "type(a)"
   ]
  },
  {
   "cell_type": "markdown",
   "id": "c1b4e376-c53c-4056-b43f-cbd46fe2ab14",
   "metadata": {},
   "source": [
    "int to string conversion"
   ]
  },
  {
   "cell_type": "code",
   "execution_count": 43,
   "id": "8ebd1c98-1c93-48e3-b836-75e0e0e9a2a9",
   "metadata": {},
   "outputs": [
    {
     "data": {
      "text/plain": [
       "int"
      ]
     },
     "execution_count": 43,
     "metadata": {},
     "output_type": "execute_result"
    }
   ],
   "source": [
    "a = 5\n",
    "type(a)"
   ]
  },
  {
   "cell_type": "code",
   "execution_count": 21,
   "id": "d16f3b70-d634-4f6b-8908-8fe5fcadfcee",
   "metadata": {},
   "outputs": [
    {
     "data": {
      "text/plain": [
       "str"
      ]
     },
     "execution_count": 21,
     "metadata": {},
     "output_type": "execute_result"
    }
   ],
   "source": [
    "a = str(5)\n",
    "type(a)"
   ]
  },
  {
   "cell_type": "markdown",
   "id": "f73e2c26-7ad3-40ff-abdf-520f9008aaf1",
   "metadata": {},
   "source": [
    "float to int conversion"
   ]
  },
  {
   "cell_type": "code",
   "execution_count": 24,
   "id": "409db042-7e5a-441d-99dd-f47ab4416e31",
   "metadata": {},
   "outputs": [
    {
     "data": {
      "text/plain": [
       "float"
      ]
     },
     "execution_count": 24,
     "metadata": {},
     "output_type": "execute_result"
    }
   ],
   "source": [
    "a = 5.9\n",
    "type(a)"
   ]
  },
  {
   "cell_type": "code",
   "execution_count": 27,
   "id": "1ee245f8-69fa-42a0-9b1a-acd1e616ae88",
   "metadata": {},
   "outputs": [
    {
     "data": {
      "text/plain": [
       "int"
      ]
     },
     "execution_count": 27,
     "metadata": {},
     "output_type": "execute_result"
    }
   ],
   "source": [
    "a = int(5.9)\n",
    "type(a)"
   ]
  },
  {
   "cell_type": "markdown",
   "id": "963e298f-0925-470b-917a-c6ab45c62590",
   "metadata": {},
   "source": [
    "sting to list conversion"
   ]
  },
  {
   "cell_type": "code",
   "execution_count": 23,
   "id": "017ee91b-78bd-4f4d-94b9-9f367888c111",
   "metadata": {},
   "outputs": [
    {
     "data": {
      "text/plain": [
       "str"
      ]
     },
     "execution_count": 23,
     "metadata": {},
     "output_type": "execute_result"
    }
   ],
   "source": [
    "l = \"hello\"\n",
    "type(l)"
   ]
  },
  {
   "cell_type": "code",
   "execution_count": 22,
   "id": "630265ed-c91e-409b-9f2c-e80d2eed287f",
   "metadata": {},
   "outputs": [
    {
     "data": {
      "text/plain": [
       "list"
      ]
     },
     "execution_count": 22,
     "metadata": {},
     "output_type": "execute_result"
    }
   ],
   "source": [
    "l = list(\"hello\")\n",
    "type(l)"
   ]
  },
  {
   "cell_type": "markdown",
   "id": "808332d9-3eb9-4666-bb23-e1db73e4e279",
   "metadata": {},
   "source": [
    "string to tuple conversion"
   ]
  },
  {
   "cell_type": "code",
   "execution_count": 33,
   "id": "27c7f628-9605-42f4-a399-989f14ccba1d",
   "metadata": {},
   "outputs": [
    {
     "data": {
      "text/plain": [
       "str"
      ]
     },
     "execution_count": 33,
     "metadata": {},
     "output_type": "execute_result"
    }
   ],
   "source": [
    "l = \"antima\"\n",
    "type(l)"
   ]
  },
  {
   "cell_type": "code",
   "execution_count": 34,
   "id": "b8851033-8aad-48da-b6ad-6fc6d4e3d599",
   "metadata": {},
   "outputs": [
    {
     "data": {
      "text/plain": [
       "tuple"
      ]
     },
     "execution_count": 34,
     "metadata": {},
     "output_type": "execute_result"
    }
   ],
   "source": [
    "l = tuple(\"antima\")\n",
    "type(l)"
   ]
  },
  {
   "cell_type": "markdown",
   "id": "19e0ea3d-cbd4-42f5-a761-869c8581a336",
   "metadata": {},
   "source": [
    "list to set conversion"
   ]
  },
  {
   "cell_type": "code",
   "execution_count": 35,
   "id": "a0e66a8c-c445-42f1-8512-b5c533f2cce2",
   "metadata": {},
   "outputs": [
    {
     "data": {
      "text/plain": [
       "[1, 2, 3, 3, 2, 1, 3, 2]"
      ]
     },
     "execution_count": 35,
     "metadata": {},
     "output_type": "execute_result"
    }
   ],
   "source": [
    "s = [1,2,3,3,2,1,3,2,]\n",
    "s"
   ]
  },
  {
   "cell_type": "code",
   "execution_count": 38,
   "id": "83f50996-1bd7-4a9c-a63e-f3adfdeda317",
   "metadata": {},
   "outputs": [
    {
     "data": {
      "text/plain": [
       "{1, 2, 3}"
      ]
     },
     "execution_count": 38,
     "metadata": {},
     "output_type": "execute_result"
    }
   ],
   "source": [
    "s = [1,2,3,3,2,1,3,2,]\n",
    "ls = set(s)\n",
    "ls"
   ]
  },
  {
   "cell_type": "markdown",
   "id": "88228065-0b1f-4790-9566-f5f023a28e71",
   "metadata": {},
   "source": [
    "string to set conversion"
   ]
  },
  {
   "cell_type": "code",
   "execution_count": 42,
   "id": "4790422e-9c3b-49bd-89a2-a06098ec9df1",
   "metadata": {},
   "outputs": [
    {
     "data": {
      "text/plain": [
       "str"
      ]
     },
     "execution_count": 42,
     "metadata": {},
     "output_type": "execute_result"
    }
   ],
   "source": [
    "s = \"antima\"\n",
    "s\n",
    "type(s)"
   ]
  },
  {
   "cell_type": "code",
   "execution_count": 43,
   "id": "ec45017e-b8d4-4a22-a714-458782c2f249",
   "metadata": {},
   "outputs": [
    {
     "data": {
      "text/plain": [
       "set"
      ]
     },
     "execution_count": 43,
     "metadata": {},
     "output_type": "execute_result"
    }
   ],
   "source": [
    "s = set (\"antima\")\n",
    "s\n",
    "type(s)"
   ]
  },
  {
   "cell_type": "markdown",
   "id": "4b0fcbd0-04cd-401a-a637-812693aa2db9",
   "metadata": {},
   "source": [
    "from list of tuples to dictionary conversion"
   ]
  },
  {
   "cell_type": "code",
   "execution_count": 49,
   "id": "e9b9780d-675e-4ac1-bfbb-11b231a9a06b",
   "metadata": {},
   "outputs": [
    {
     "data": {
      "text/plain": [
       "{'a': 1, 'b': 2}"
      ]
     },
     "execution_count": 49,
     "metadata": {},
     "output_type": "execute_result"
    }
   ],
   "source": [
    "l_of_t = [(\"a\", 1), (\"b\", 2)]\n",
    "dict_val = dict(l_of_t)  \n",
    "dict_val"
   ]
  },
  {
   "cell_type": "markdown",
   "id": "4aafbb0f-c8db-43dd-86d1-c48cb7b29094",
   "metadata": {},
   "source": [
    "int to boolean conversion"
   ]
  },
  {
   "cell_type": "code",
   "execution_count": 30,
   "id": "71f264a7-3a30-4fdf-ae26-8e1d5ff41b42",
   "metadata": {},
   "outputs": [
    {
     "data": {
      "text/plain": [
       "int"
      ]
     },
     "execution_count": 30,
     "metadata": {},
     "output_type": "execute_result"
    }
   ],
   "source": [
    "b = 1\n",
    "type(b)"
   ]
  },
  {
   "cell_type": "code",
   "execution_count": 31,
   "id": "fe033855-a16b-4cb0-9c6b-fe6507ed74d5",
   "metadata": {},
   "outputs": [
    {
     "data": {
      "text/plain": [
       "bool"
      ]
     },
     "execution_count": 31,
     "metadata": {},
     "output_type": "execute_result"
    }
   ],
   "source": [
    "b = bool(1)\n",
    "type(b)"
   ]
  },
  {
   "cell_type": "markdown",
   "id": "21cee1b0-3b36-4288-abe1-203286335fea",
   "metadata": {},
   "source": [
    "## 6. How do conditional statements work in Python? Illustrate with examples\n"
   ]
  },
  {
   "cell_type": "markdown",
   "id": "c1e8afc0-2a30-449f-ba86-a4cf5b25bba6",
   "metadata": {},
   "source": [
    "Conditional statements in Python allow you to execute certain blocks of code based on whether a condition is true or false."
   ]
  },
  {
   "cell_type": "code",
   "execution_count": 44,
   "id": "64b63010-585f-4120-a429-05620f9b510e",
   "metadata": {},
   "outputs": [
    {
     "name": "stdout",
     "output_type": "stream",
     "text": [
      "a is equal to 100\n"
     ]
    }
   ],
   "source": [
    "# if statement\n",
    "a = 100\n",
    "if a == 100:\n",
    "    print(\"a is equal to 100\")"
   ]
  },
  {
   "cell_type": "code",
   "execution_count": 45,
   "id": "73b6e89a-915d-4150-b39f-11b49d522990",
   "metadata": {},
   "outputs": [
    {
     "name": "stdout",
     "output_type": "stream",
     "text": [
      "a is not equal to 100\n"
     ]
    }
   ],
   "source": [
    "# if-else statement\n",
    "a = 1001\n",
    "if a == 100:\n",
    "    print(\"a is equal to 100\")\n",
    "else:\n",
    "    print(\"a is not equal to 100\")"
   ]
  },
  {
   "cell_type": "code",
   "execution_count": 46,
   "id": "23f596c6-d774-4d44-8aef-c52276e95e99",
   "metadata": {},
   "outputs": [
    {
     "name": "stdin",
     "output_type": "stream",
     "text": [
      "enter your monthly salary 190000\n"
     ]
    },
    {
     "name": "stdout",
     "output_type": "stream",
     "text": [
      "not bad\n"
     ]
    }
   ],
   "source": [
    "# if-elif-else Statement\n",
    "salary = int(input(\"enter your monthly salary\"))\n",
    "if salary >= 200000:\n",
    "    print(\"great\")\n",
    "elif salary >= 100000 or salary <= 200000:\n",
    "        print(\"not bad\")\n",
    "else:\n",
    "    print(\"work smart\")\n"
   ]
  },
  {
   "cell_type": "code",
   "execution_count": 47,
   "id": "c9fe4f7d-be09-4ab5-918d-69df83683ba4",
   "metadata": {},
   "outputs": [
    {
     "name": "stdin",
     "output_type": "stream",
     "text": [
      "enter number 55\n"
     ]
    },
    {
     "name": "stdout",
     "output_type": "stream",
     "text": [
      "The number is positive and odd.\n"
     ]
    }
   ],
   "source": [
    "# Nested if statements\n",
    "number =int(input(\"enter number\"))\n",
    "if number > 0:\n",
    "    if number % 2 == 0:\n",
    "        print(\"The number is positive and even.\")\n",
    "    else:\n",
    "        print(\"The number is positive and odd.\")\n",
    "else:\n",
    "    print(\"The number is negative or zero.\")"
   ]
  },
  {
   "cell_type": "code",
   "execution_count": 48,
   "id": "e92d0985-34d9-4ff4-aeaa-1c24099c0db3",
   "metadata": {},
   "outputs": [
    {
     "name": "stdin",
     "output_type": "stream",
     "text": [
      "enter your age 23\n"
     ]
    },
    {
     "name": "stdout",
     "output_type": "stream",
     "text": [
      "You are eligible for vote.\n"
     ]
    }
   ],
   "source": [
    "# Using logical operator\n",
    "age = int(input(\"enter your age\"))\n",
    "permit = True\n",
    "if age >= 18 and permit:\n",
    "    print(\"You are eligible for vote.\")\n",
    "else:\n",
    "    print(\"You are not eligible for vote.\")"
   ]
  },
  {
   "cell_type": "code",
   "execution_count": 49,
   "id": "a80377e5-91c7-43f3-832d-0a884cad8cf2",
   "metadata": {},
   "outputs": [
    {
     "name": "stdout",
     "output_type": "stream",
     "text": [
      "apple is in the list.\n"
     ]
    }
   ],
   "source": [
    "# checking membership with in\n",
    "f = \"apple\"\n",
    "fruits = [\"apple\", \"banana\", \"cherry\",\"grape\"]\n",
    "if f in fruits:\n",
    "    print(f\"{f} is in the list.\")\n",
    "else:\n",
    "    print(f\"{f} is not in the list.\")"
   ]
  },
  {
   "cell_type": "markdown",
   "id": "530c349e-2769-48a6-a489-e106104c84c7",
   "metadata": {},
   "source": [
    "## 7. Describe the different types of loops in Python and their use cases with examples.\n"
   ]
  },
  {
   "cell_type": "markdown",
   "id": "f129bef4-c8c5-44bb-a865-15f2c622f62e",
   "metadata": {},
   "source": [
    "For loop is used to iterate over a sequence (such as a list, tuple, dictionary, set, or string) and execute a block of code for each element in the sequence.\n",
    "\n",
    "While loop  is used to execute a block of code as long as a specified condition is true. The condition is evaluated before the execution of the loop's code."
   ]
  },
  {
   "cell_type": "code",
   "execution_count": 50,
   "id": "fffad7ea-5c75-41c9-a359-829d760551cf",
   "metadata": {},
   "outputs": [
    {
     "name": "stdout",
     "output_type": "stream",
     "text": [
      "* * *  \n",
      "* * *  \n",
      "* * *  \n"
     ]
    }
   ],
   "source": [
    "for i in range(3):\n",
    "    for j in range(3):\n",
    "        print(\"*\",end = \" \")\n",
    "    print(\" \")"
   ]
  },
  {
   "cell_type": "code",
   "execution_count": 51,
   "id": "abe1cfba-dbe3-40bd-9d0f-22f049739e85",
   "metadata": {},
   "outputs": [
    {
     "name": "stdin",
     "output_type": "stream",
     "text": [
      "enter number for square 5\n"
     ]
    },
    {
     "name": "stdout",
     "output_type": "stream",
     "text": [
      "1 = 1\n",
      "2 = 4\n",
      "3 = 9\n",
      "4 = 16\n",
      "5 = 25\n"
     ]
    }
   ],
   "source": [
    "n = int(input(\"enter number for square\"))\n",
    "i = 1\n",
    "while i <= n:\n",
    "    res = i*i\n",
    "    print(i,\"=\", res)\n",
    "    i = i+1"
   ]
  }
 ],
 "metadata": {
  "kernelspec": {
   "display_name": "Python 3 (ipykernel)",
   "language": "python",
   "name": "python3"
  },
  "language_info": {
   "codemirror_mode": {
    "name": "ipython",
    "version": 3
   },
   "file_extension": ".py",
   "mimetype": "text/x-python",
   "name": "python",
   "nbconvert_exporter": "python",
   "pygments_lexer": "ipython3",
   "version": "3.10.8"
  }
 },
 "nbformat": 4,
 "nbformat_minor": 5
}
